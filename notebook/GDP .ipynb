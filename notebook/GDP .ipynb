{
 "cells": [
  {
   "cell_type": "code",
   "execution_count": 1,
   "id": "36562a15",
   "metadata": {},
   "outputs": [],
   "source": [
    "import pandas as pd   \n",
    "import numpy as np\n",
    "import matplotlib.pyplot as plt\n",
    "import seaborn as sns"
   ]
  },
  {
   "cell_type": "code",
   "execution_count": 2,
   "id": "1efae9d5",
   "metadata": {},
   "outputs": [],
   "source": [
    "%matplotlib inline"
   ]
  },
  {
   "cell_type": "code",
   "execution_count": 3,
   "id": "47d7d332",
   "metadata": {},
   "outputs": [],
   "source": [
    "gdp_df = pd.read_csv(\"../data/gdp_percapita.csv\", nrows=6868)"
   ]
  },
  {
   "cell_type": "code",
   "execution_count": 4,
   "id": "86eb4af8",
   "metadata": {},
   "outputs": [
    {
     "data": {
      "text/html": [
       "<div>\n",
       "<style scoped>\n",
       "    .dataframe tbody tr th:only-of-type {\n",
       "        vertical-align: middle;\n",
       "    }\n",
       "\n",
       "    .dataframe tbody tr th {\n",
       "        vertical-align: top;\n",
       "    }\n",
       "\n",
       "    .dataframe thead th {\n",
       "        text-align: right;\n",
       "    }\n",
       "</style>\n",
       "<table border=\"1\" class=\"dataframe\">\n",
       "  <thead>\n",
       "    <tr style=\"text-align: right;\">\n",
       "      <th></th>\n",
       "      <th>Country or Area</th>\n",
       "      <th>Year</th>\n",
       "      <th>Value</th>\n",
       "      <th>Value Footnotes</th>\n",
       "    </tr>\n",
       "  </thead>\n",
       "  <tbody>\n",
       "    <tr>\n",
       "      <th>0</th>\n",
       "      <td>Afghanistan</td>\n",
       "      <td>2019</td>\n",
       "      <td>2065.036398</td>\n",
       "      <td>NaN</td>\n",
       "    </tr>\n",
       "    <tr>\n",
       "      <th>1</th>\n",
       "      <td>Afghanistan</td>\n",
       "      <td>2018</td>\n",
       "      <td>2033.779002</td>\n",
       "      <td>NaN</td>\n",
       "    </tr>\n",
       "    <tr>\n",
       "      <th>2</th>\n",
       "      <td>Afghanistan</td>\n",
       "      <td>2017</td>\n",
       "      <td>2058.383832</td>\n",
       "      <td>NaN</td>\n",
       "    </tr>\n",
       "    <tr>\n",
       "      <th>3</th>\n",
       "      <td>Afghanistan</td>\n",
       "      <td>2016</td>\n",
       "      <td>2057.062164</td>\n",
       "      <td>NaN</td>\n",
       "    </tr>\n",
       "    <tr>\n",
       "      <th>4</th>\n",
       "      <td>Afghanistan</td>\n",
       "      <td>2015</td>\n",
       "      <td>2068.265904</td>\n",
       "      <td>NaN</td>\n",
       "    </tr>\n",
       "  </tbody>\n",
       "</table>\n",
       "</div>"
      ],
      "text/plain": [
       "  Country or Area  Year        Value  Value Footnotes\n",
       "0     Afghanistan  2019  2065.036398              NaN\n",
       "1     Afghanistan  2018  2033.779002              NaN\n",
       "2     Afghanistan  2017  2058.383832              NaN\n",
       "3     Afghanistan  2016  2057.062164              NaN\n",
       "4     Afghanistan  2015  2068.265904              NaN"
      ]
     },
     "execution_count": 4,
     "metadata": {},
     "output_type": "execute_result"
    }
   ],
   "source": [
    "gdp_df.head()"
   ]
  },
  {
   "cell_type": "code",
   "execution_count": 5,
   "id": "7479087b",
   "metadata": {},
   "outputs": [],
   "source": [
    "internet_df = pd.read_csv(\"../data/internet_use.csv\", nrows=4495)"
   ]
  },
  {
   "cell_type": "code",
   "execution_count": 6,
   "id": "0dded5ac",
   "metadata": {},
   "outputs": [
    {
     "data": {
      "text/html": [
       "<div>\n",
       "<style scoped>\n",
       "    .dataframe tbody tr th:only-of-type {\n",
       "        vertical-align: middle;\n",
       "    }\n",
       "\n",
       "    .dataframe tbody tr th {\n",
       "        vertical-align: top;\n",
       "    }\n",
       "\n",
       "    .dataframe thead th {\n",
       "        text-align: right;\n",
       "    }\n",
       "</style>\n",
       "<table border=\"1\" class=\"dataframe\">\n",
       "  <thead>\n",
       "    <tr style=\"text-align: right;\">\n",
       "      <th></th>\n",
       "      <th>Country or Area</th>\n",
       "      <th>Year</th>\n",
       "      <th>Value</th>\n",
       "      <th>Value Footnotes</th>\n",
       "    </tr>\n",
       "  </thead>\n",
       "  <tbody>\n",
       "    <tr>\n",
       "      <th>0</th>\n",
       "      <td>Afghanistan</td>\n",
       "      <td>2014</td>\n",
       "      <td>6.390000</td>\n",
       "      <td>NaN</td>\n",
       "    </tr>\n",
       "    <tr>\n",
       "      <th>1</th>\n",
       "      <td>Afghanistan</td>\n",
       "      <td>2013</td>\n",
       "      <td>5.900000</td>\n",
       "      <td>NaN</td>\n",
       "    </tr>\n",
       "    <tr>\n",
       "      <th>2</th>\n",
       "      <td>Afghanistan</td>\n",
       "      <td>2012</td>\n",
       "      <td>5.454545</td>\n",
       "      <td>NaN</td>\n",
       "    </tr>\n",
       "    <tr>\n",
       "      <th>3</th>\n",
       "      <td>Afghanistan</td>\n",
       "      <td>2011</td>\n",
       "      <td>5.000000</td>\n",
       "      <td>NaN</td>\n",
       "    </tr>\n",
       "    <tr>\n",
       "      <th>4</th>\n",
       "      <td>Afghanistan</td>\n",
       "      <td>2010</td>\n",
       "      <td>4.000000</td>\n",
       "      <td>NaN</td>\n",
       "    </tr>\n",
       "  </tbody>\n",
       "</table>\n",
       "</div>"
      ],
      "text/plain": [
       "  Country or Area  Year     Value  Value Footnotes\n",
       "0     Afghanistan  2014  6.390000              NaN\n",
       "1     Afghanistan  2013  5.900000              NaN\n",
       "2     Afghanistan  2012  5.454545              NaN\n",
       "3     Afghanistan  2011  5.000000              NaN\n",
       "4     Afghanistan  2010  4.000000              NaN"
      ]
     },
     "execution_count": 6,
     "metadata": {},
     "output_type": "execute_result"
    }
   ],
   "source": [
    "internet_df.head()"
   ]
  },
  {
   "cell_type": "markdown",
   "id": "0e6b9ba0",
   "metadata": {},
   "source": [
    "#### 7. Look at the shape of each DataFrame - how many rows? How many columns?"
   ]
  },
  {
   "cell_type": "code",
   "execution_count": 7,
   "id": "8566d9bd",
   "metadata": {},
   "outputs": [
    {
     "name": "stdout",
     "output_type": "stream",
     "text": [
      "(6868, 4)\n"
     ]
    }
   ],
   "source": [
    "print(gdp_df.shape)\n"
   ]
  },
  {
   "cell_type": "code",
   "execution_count": 8,
   "id": "1cc02cac",
   "metadata": {},
   "outputs": [
    {
     "name": "stdout",
     "output_type": "stream",
     "text": [
      "(4495, 4)\n"
     ]
    }
   ],
   "source": [
    "print(internet_df.shape)"
   ]
  },
  {
   "cell_type": "markdown",
   "id": "3179db61",
   "metadata": {},
   "source": [
    "#### 8.\tTake a look at the datatypes for the columns in each DataFrame."
   ]
  },
  {
   "cell_type": "code",
   "execution_count": 9,
   "id": "3170ed98",
   "metadata": {},
   "outputs": [
    {
     "name": "stdout",
     "output_type": "stream",
     "text": [
      "Country or Area     object\n",
      "Year                 int64\n",
      "Value              float64\n",
      "Value Footnotes    float64\n",
      "dtype: object\n"
     ]
    }
   ],
   "source": [
    "print(gdp_df.dtypes)"
   ]
  },
  {
   "cell_type": "code",
   "execution_count": 10,
   "id": "fe0d2c94",
   "metadata": {},
   "outputs": [
    {
     "name": "stdout",
     "output_type": "stream",
     "text": [
      "Country or Area     object\n",
      "Year                 int64\n",
      "Value              float64\n",
      "Value Footnotes    float64\n",
      "dtype: object\n"
     ]
    }
   ],
   "source": [
    "print(internet_df.dtypes)"
   ]
  },
  {
   "cell_type": "markdown",
   "id": "0816c8c9",
   "metadata": {},
   "source": [
    "#### 9. Take a look at the last 10 rows of each DataFrame in turn."
   ]
  },
  {
   "cell_type": "code",
   "execution_count": 11,
   "id": "45f8f361",
   "metadata": {},
   "outputs": [
    {
     "data": {
      "text/html": [
       "<div>\n",
       "<style scoped>\n",
       "    .dataframe tbody tr th:only-of-type {\n",
       "        vertical-align: middle;\n",
       "    }\n",
       "\n",
       "    .dataframe tbody tr th {\n",
       "        vertical-align: top;\n",
       "    }\n",
       "\n",
       "    .dataframe thead th {\n",
       "        text-align: right;\n",
       "    }\n",
       "</style>\n",
       "<table border=\"1\" class=\"dataframe\">\n",
       "  <thead>\n",
       "    <tr style=\"text-align: right;\">\n",
       "      <th></th>\n",
       "      <th>Country or Area</th>\n",
       "      <th>Year</th>\n",
       "      <th>Value</th>\n",
       "      <th>Value Footnotes</th>\n",
       "    </tr>\n",
       "  </thead>\n",
       "  <tbody>\n",
       "    <tr>\n",
       "      <th>6858</th>\n",
       "      <td>Zimbabwe</td>\n",
       "      <td>1999</td>\n",
       "      <td>3600.849291</td>\n",
       "      <td>NaN</td>\n",
       "    </tr>\n",
       "    <tr>\n",
       "      <th>6859</th>\n",
       "      <td>Zimbabwe</td>\n",
       "      <td>1998</td>\n",
       "      <td>3653.920016</td>\n",
       "      <td>NaN</td>\n",
       "    </tr>\n",
       "    <tr>\n",
       "      <th>6860</th>\n",
       "      <td>Zimbabwe</td>\n",
       "      <td>1997</td>\n",
       "      <td>3580.048793</td>\n",
       "      <td>NaN</td>\n",
       "    </tr>\n",
       "    <tr>\n",
       "      <th>6861</th>\n",
       "      <td>Zimbabwe</td>\n",
       "      <td>1996</td>\n",
       "      <td>3520.430146</td>\n",
       "      <td>NaN</td>\n",
       "    </tr>\n",
       "    <tr>\n",
       "      <th>6862</th>\n",
       "      <td>Zimbabwe</td>\n",
       "      <td>1995</td>\n",
       "      <td>3226.413930</td>\n",
       "      <td>NaN</td>\n",
       "    </tr>\n",
       "    <tr>\n",
       "      <th>6863</th>\n",
       "      <td>Zimbabwe</td>\n",
       "      <td>1994</td>\n",
       "      <td>3263.934978</td>\n",
       "      <td>NaN</td>\n",
       "    </tr>\n",
       "    <tr>\n",
       "      <th>6864</th>\n",
       "      <td>Zimbabwe</td>\n",
       "      <td>1993</td>\n",
       "      <td>3033.504852</td>\n",
       "      <td>NaN</td>\n",
       "    </tr>\n",
       "    <tr>\n",
       "      <th>6865</th>\n",
       "      <td>Zimbabwe</td>\n",
       "      <td>1992</td>\n",
       "      <td>3054.889178</td>\n",
       "      <td>NaN</td>\n",
       "    </tr>\n",
       "    <tr>\n",
       "      <th>6866</th>\n",
       "      <td>Zimbabwe</td>\n",
       "      <td>1991</td>\n",
       "      <td>3426.598094</td>\n",
       "      <td>NaN</td>\n",
       "    </tr>\n",
       "    <tr>\n",
       "      <th>6867</th>\n",
       "      <td>Zimbabwe</td>\n",
       "      <td>1990</td>\n",
       "      <td>3324.348171</td>\n",
       "      <td>NaN</td>\n",
       "    </tr>\n",
       "  </tbody>\n",
       "</table>\n",
       "</div>"
      ],
      "text/plain": [
       "     Country or Area  Year        Value  Value Footnotes\n",
       "6858        Zimbabwe  1999  3600.849291              NaN\n",
       "6859        Zimbabwe  1998  3653.920016              NaN\n",
       "6860        Zimbabwe  1997  3580.048793              NaN\n",
       "6861        Zimbabwe  1996  3520.430146              NaN\n",
       "6862        Zimbabwe  1995  3226.413930              NaN\n",
       "6863        Zimbabwe  1994  3263.934978              NaN\n",
       "6864        Zimbabwe  1993  3033.504852              NaN\n",
       "6865        Zimbabwe  1992  3054.889178              NaN\n",
       "6866        Zimbabwe  1991  3426.598094              NaN\n",
       "6867        Zimbabwe  1990  3324.348171              NaN"
      ]
     },
     "execution_count": 11,
     "metadata": {},
     "output_type": "execute_result"
    }
   ],
   "source": [
    "gdp_df.tail(10)"
   ]
  },
  {
   "cell_type": "code",
   "execution_count": 12,
   "id": "1b395974",
   "metadata": {},
   "outputs": [
    {
     "data": {
      "text/html": [
       "<div>\n",
       "<style scoped>\n",
       "    .dataframe tbody tr th:only-of-type {\n",
       "        vertical-align: middle;\n",
       "    }\n",
       "\n",
       "    .dataframe tbody tr th {\n",
       "        vertical-align: top;\n",
       "    }\n",
       "\n",
       "    .dataframe thead th {\n",
       "        text-align: right;\n",
       "    }\n",
       "</style>\n",
       "<table border=\"1\" class=\"dataframe\">\n",
       "  <thead>\n",
       "    <tr style=\"text-align: right;\">\n",
       "      <th></th>\n",
       "      <th>Country or Area</th>\n",
       "      <th>Year</th>\n",
       "      <th>Value</th>\n",
       "      <th>Value Footnotes</th>\n",
       "    </tr>\n",
       "  </thead>\n",
       "  <tbody>\n",
       "    <tr>\n",
       "      <th>4485</th>\n",
       "      <td>Zimbabwe</td>\n",
       "      <td>2002</td>\n",
       "      <td>3.994356</td>\n",
       "      <td>NaN</td>\n",
       "    </tr>\n",
       "    <tr>\n",
       "      <th>4486</th>\n",
       "      <td>Zimbabwe</td>\n",
       "      <td>2001</td>\n",
       "      <td>0.799846</td>\n",
       "      <td>NaN</td>\n",
       "    </tr>\n",
       "    <tr>\n",
       "      <th>4487</th>\n",
       "      <td>Zimbabwe</td>\n",
       "      <td>2000</td>\n",
       "      <td>0.401434</td>\n",
       "      <td>NaN</td>\n",
       "    </tr>\n",
       "    <tr>\n",
       "      <th>4488</th>\n",
       "      <td>Zimbabwe</td>\n",
       "      <td>1999</td>\n",
       "      <td>0.161676</td>\n",
       "      <td>NaN</td>\n",
       "    </tr>\n",
       "    <tr>\n",
       "      <th>4489</th>\n",
       "      <td>Zimbabwe</td>\n",
       "      <td>1998</td>\n",
       "      <td>0.081648</td>\n",
       "      <td>NaN</td>\n",
       "    </tr>\n",
       "    <tr>\n",
       "      <th>4490</th>\n",
       "      <td>Zimbabwe</td>\n",
       "      <td>1997</td>\n",
       "      <td>0.033080</td>\n",
       "      <td>NaN</td>\n",
       "    </tr>\n",
       "    <tr>\n",
       "      <th>4491</th>\n",
       "      <td>Zimbabwe</td>\n",
       "      <td>1996</td>\n",
       "      <td>0.016790</td>\n",
       "      <td>NaN</td>\n",
       "    </tr>\n",
       "    <tr>\n",
       "      <th>4492</th>\n",
       "      <td>Zimbabwe</td>\n",
       "      <td>1995</td>\n",
       "      <td>0.007684</td>\n",
       "      <td>NaN</td>\n",
       "    </tr>\n",
       "    <tr>\n",
       "      <th>4493</th>\n",
       "      <td>Zimbabwe</td>\n",
       "      <td>1994</td>\n",
       "      <td>0.001739</td>\n",
       "      <td>NaN</td>\n",
       "    </tr>\n",
       "    <tr>\n",
       "      <th>4494</th>\n",
       "      <td>Zimbabwe</td>\n",
       "      <td>1990</td>\n",
       "      <td>0.000000</td>\n",
       "      <td>NaN</td>\n",
       "    </tr>\n",
       "  </tbody>\n",
       "</table>\n",
       "</div>"
      ],
      "text/plain": [
       "     Country or Area  Year     Value  Value Footnotes\n",
       "4485        Zimbabwe  2002  3.994356              NaN\n",
       "4486        Zimbabwe  2001  0.799846              NaN\n",
       "4487        Zimbabwe  2000  0.401434              NaN\n",
       "4488        Zimbabwe  1999  0.161676              NaN\n",
       "4489        Zimbabwe  1998  0.081648              NaN\n",
       "4490        Zimbabwe  1997  0.033080              NaN\n",
       "4491        Zimbabwe  1996  0.016790              NaN\n",
       "4492        Zimbabwe  1995  0.007684              NaN\n",
       "4493        Zimbabwe  1994  0.001739              NaN\n",
       "4494        Zimbabwe  1990  0.000000              NaN"
      ]
     },
     "execution_count": 12,
     "metadata": {},
     "output_type": "execute_result"
    }
   ],
   "source": [
    "internet_df.tail(10)"
   ]
  },
  {
   "cell_type": "markdown",
   "id": "8f050ff7",
   "metadata": {},
   "source": [
    "#### 10.\tDrop the `value footnotes` column from both DataFrames. Check that this worked as expected."
   ]
  },
  {
   "cell_type": "code",
   "execution_count": 13,
   "id": "114168ac",
   "metadata": {},
   "outputs": [],
   "source": [
    "gdp_df = gdp_df.drop(columns=['Value Footnotes'])"
   ]
  },
  {
   "cell_type": "code",
   "execution_count": 14,
   "id": "66475d23",
   "metadata": {},
   "outputs": [],
   "source": [
    "internet_df = internet_df.drop(columns=['Value Footnotes'])"
   ]
  },
  {
   "cell_type": "markdown",
   "id": "4bf94da5",
   "metadata": {},
   "source": [
    "#### 11.\tChange the columns for the GDP Per Capita DataFrame to ‘Country’, ‘Year’, and ‘GDP_Per_Capita’."
   ]
  },
  {
   "cell_type": "code",
   "execution_count": 15,
   "id": "0762aef3",
   "metadata": {},
   "outputs": [],
   "source": [
    "gdp_df.rename(\n",
    "    columns={\"Country or Area\" : \"Country\",\n",
    "                \"Value\":\"GDP_Per_Capita\"}\n",
    "          ,inplace=True)"
   ]
  },
  {
   "cell_type": "code",
   "execution_count": 16,
   "id": "8f7877eb",
   "metadata": {},
   "outputs": [
    {
     "name": "stdout",
     "output_type": "stream",
     "text": [
      "       Country  Year  GDP_Per_Capita\n",
      "0  Afghanistan  2019     2065.036398\n",
      "1  Afghanistan  2018     2033.779002\n",
      "2  Afghanistan  2017     2058.383832\n",
      "3  Afghanistan  2016     2057.062164\n",
      "4  Afghanistan  2015     2068.265904\n"
     ]
    }
   ],
   "source": [
    "print(gdp_df.head())"
   ]
  },
  {
   "cell_type": "markdown",
   "id": "905e5323",
   "metadata": {},
   "source": [
    "#### 12.\tChange the columns for the Internet Users DataFrame to ‘Country’, ‘Year’, and ‘Internet_Users_Pct’."
   ]
  },
  {
   "cell_type": "code",
   "execution_count": 17,
   "id": "e01f611d",
   "metadata": {},
   "outputs": [],
   "source": [
    "internet_df.rename(\n",
    "    columns={\"Country or Area\" : \"Country\",\n",
    "                \"Value\":\"Internet_Users_Pct\"}\n",
    "          ,inplace=True)"
   ]
  },
  {
   "cell_type": "code",
   "execution_count": 18,
   "id": "71ef3906",
   "metadata": {},
   "outputs": [
    {
     "name": "stdout",
     "output_type": "stream",
     "text": [
      "       Country  Year  Internet_Users_Pct\n",
      "0  Afghanistan  2014            6.390000\n",
      "1  Afghanistan  2013            5.900000\n",
      "2  Afghanistan  2012            5.454545\n",
      "3  Afghanistan  2011            5.000000\n",
      "4  Afghanistan  2010            4.000000\n"
     ]
    }
   ],
   "source": [
    "print(internet_df.head())"
   ]
  },
  {
   "cell_type": "markdown",
   "id": "2e8f4513",
   "metadata": {},
   "source": [
    "#### 13.\tMerge the two DataFrames to one. Merge **all rows** from each of the two DataFrames. Call the new DataFrame `gdp_and_internet_use`."
   ]
  },
  {
   "cell_type": "code",
   "execution_count": 19,
   "id": "8ecdf905",
   "metadata": {},
   "outputs": [],
   "source": [
    "gdp_and_internet_use = pd.merge(gdp_df, internet_df, how='left', on=['Country','Year'])"
   ]
  },
  {
   "cell_type": "code",
   "execution_count": 20,
   "id": "2ded1631",
   "metadata": {},
   "outputs": [
    {
     "name": "stdout",
     "output_type": "stream",
     "text": [
      "          Country  Year  GDP_Per_Capita  Internet_Users_Pct\n",
      "0     Afghanistan  2019     2065.036398                 NaN\n",
      "1     Afghanistan  2018     2033.779002                 NaN\n",
      "2     Afghanistan  2017     2058.383832                 NaN\n",
      "3     Afghanistan  2016     2057.062164                 NaN\n",
      "4     Afghanistan  2015     2068.265904                 NaN\n",
      "...           ...   ...             ...                 ...\n",
      "6863     Zimbabwe  1994     3263.934978            0.001739\n",
      "6864     Zimbabwe  1993     3033.504852                 NaN\n",
      "6865     Zimbabwe  1992     3054.889178                 NaN\n",
      "6866     Zimbabwe  1991     3426.598094                 NaN\n",
      "6867     Zimbabwe  1990     3324.348171            0.000000\n",
      "\n",
      "[6868 rows x 4 columns]\n"
     ]
    }
   ],
   "source": [
    "print(gdp_and_internet_use)"
   ]
  },
  {
   "cell_type": "markdown",
   "id": "68a476a8",
   "metadata": {},
   "source": [
    "#### 14.\tLook at the first five rows of your new DataFrame to confirm it merged correctly."
   ]
  },
  {
   "cell_type": "code",
   "execution_count": 21,
   "id": "3a3990d2",
   "metadata": {},
   "outputs": [
    {
     "name": "stdout",
     "output_type": "stream",
     "text": [
      "       Country  Year  GDP_Per_Capita  Internet_Users_Pct\n",
      "0  Afghanistan  2019     2065.036398                 NaN\n",
      "1  Afghanistan  2018     2033.779002                 NaN\n",
      "2  Afghanistan  2017     2058.383832                 NaN\n",
      "3  Afghanistan  2016     2057.062164                 NaN\n",
      "4  Afghanistan  2015     2068.265904                 NaN\n"
     ]
    }
   ],
   "source": [
    "print(gdp_and_internet_use.head())"
   ]
  },
  {
   "cell_type": "markdown",
   "id": "8b5a5c5d",
   "metadata": {},
   "source": [
    "#### 15.\tLook at the last five rows to make sure the data is clean and as expected."
   ]
  },
  {
   "cell_type": "code",
   "execution_count": 22,
   "id": "2b4a49d0",
   "metadata": {},
   "outputs": [
    {
     "name": "stdout",
     "output_type": "stream",
     "text": [
      "       Country  Year  GDP_Per_Capita\n",
      "6863  Zimbabwe  1994     3263.934978\n",
      "6864  Zimbabwe  1993     3033.504852\n",
      "6865  Zimbabwe  1992     3054.889178\n",
      "6866  Zimbabwe  1991     3426.598094\n",
      "6867  Zimbabwe  1990     3324.348171\n"
     ]
    }
   ],
   "source": [
    "print(gdp_df.tail())"
   ]
  },
  {
   "cell_type": "markdown",
   "id": "b1165c78",
   "metadata": {},
   "source": [
    "#### 16.\tSubset the combined DataFrame to keep only the data for 2004, 2009, and 2014. Check that this happened correctly.\n"
   ]
  },
  {
   "cell_type": "code",
   "execution_count": 23,
   "id": "526915a4",
   "metadata": {},
   "outputs": [
    {
     "name": "stdout",
     "output_type": "stream",
     "text": [
      "                  Country  Year  GDP_Per_Capita  Internet_Users_Pct\n",
      "15            Afghanistan  2004     1200.278256            0.105809\n",
      "33                Albania  2004     7604.838002            2.420388\n",
      "63                Algeria  2004    10058.435939            4.634475\n",
      "93                 Angola  2004     5593.241537            0.464815\n",
      "123   Antigua and Barbuda  2004    18745.681534           24.266544\n",
      "...                   ...   ...             ...                 ...\n",
      "6727              Vietnam  2014     6098.489609                 NaN\n",
      "6757   West Bank and Gaza  2014     5967.073437                 NaN\n",
      "6783                World  2014    15189.648507                 NaN\n",
      "6813               Zambia  2014     3450.046561           17.340000\n",
      "6843             Zimbabwe  2014     2955.240287           19.890000\n",
      "\n",
      "[708 rows x 4 columns]\n"
     ]
    }
   ],
   "source": [
    "df_2004 = gdp_and_internet_use[gdp_and_internet_use.Year == 2004]\n",
    "df_2009 = gdp_and_internet_use[gdp_and_internet_use.Year == 2009]\n",
    "df_2014 = gdp_and_internet_use[gdp_and_internet_use.Year == 2014]\n",
    "\n",
    "subset_df = pd.concat([df_2004, df_2009, df_2014])\n",
    "\n",
    "print(subset_df)"
   ]
  },
  {
   "cell_type": "markdown",
   "id": "edce1c18",
   "metadata": {},
   "source": [
    "#### 17.\tCreate three new DataFrames, one for 2004, one for 2009, and one for 2014. Give them meaningful names that aren't too long."
   ]
  },
  {
   "cell_type": "markdown",
   "id": "8a776543",
   "metadata": {},
   "source": [
    "#### already did this above to create subset (feeling like I did that question wrong)"
   ]
  },
  {
   "cell_type": "markdown",
   "id": "5c49837e",
   "metadata": {},
   "source": [
    "#### 18.\tWhich country had the highest percentage of internet users in 2014? What was the percentage? (Try typing the first 3 letters of your DataFrame name and hitting the tab key for auto-complete options)."
   ]
  },
  {
   "cell_type": "code",
   "execution_count": 24,
   "id": "15cc9120",
   "metadata": {},
   "outputs": [
    {
     "data": {
      "text/html": [
       "<div>\n",
       "<style scoped>\n",
       "    .dataframe tbody tr th:only-of-type {\n",
       "        vertical-align: middle;\n",
       "    }\n",
       "\n",
       "    .dataframe tbody tr th {\n",
       "        vertical-align: top;\n",
       "    }\n",
       "\n",
       "    .dataframe thead th {\n",
       "        text-align: right;\n",
       "    }\n",
       "</style>\n",
       "<table border=\"1\" class=\"dataframe\">\n",
       "  <thead>\n",
       "    <tr style=\"text-align: right;\">\n",
       "      <th></th>\n",
       "      <th>Country</th>\n",
       "      <th>Year</th>\n",
       "      <th>GDP_Per_Capita</th>\n",
       "      <th>Internet_Users_Pct</th>\n",
       "    </tr>\n",
       "  </thead>\n",
       "  <tbody>\n",
       "    <tr>\n",
       "      <th>2625</th>\n",
       "      <td>Iceland</td>\n",
       "      <td>2014</td>\n",
       "      <td>49652.149500</td>\n",
       "      <td>98.16</td>\n",
       "    </tr>\n",
       "    <tr>\n",
       "      <th>561</th>\n",
       "      <td>Bermuda</td>\n",
       "      <td>2014</td>\n",
       "      <td>77361.104881</td>\n",
       "      <td>96.80</td>\n",
       "    </tr>\n",
       "    <tr>\n",
       "      <th>4648</th>\n",
       "      <td>Norway</td>\n",
       "      <td>2014</td>\n",
       "      <td>62589.373548</td>\n",
       "      <td>96.30</td>\n",
       "    </tr>\n",
       "    <tr>\n",
       "      <th>1452</th>\n",
       "      <td>Denmark</td>\n",
       "      <td>2014</td>\n",
       "      <td>52214.537753</td>\n",
       "      <td>95.99</td>\n",
       "    </tr>\n",
       "    <tr>\n",
       "      <th>3691</th>\n",
       "      <td>Luxembourg</td>\n",
       "      <td>2014</td>\n",
       "      <td>108760.916030</td>\n",
       "      <td>94.67</td>\n",
       "    </tr>\n",
       "    <tr>\n",
       "      <th>...</th>\n",
       "      <td>...</td>\n",
       "      <td>...</td>\n",
       "      <td>...</td>\n",
       "      <td>...</td>\n",
       "    </tr>\n",
       "    <tr>\n",
       "      <th>6427</th>\n",
       "      <td>Tuvalu</td>\n",
       "      <td>2014</td>\n",
       "      <td>3450.793169</td>\n",
       "      <td>NaN</td>\n",
       "    </tr>\n",
       "    <tr>\n",
       "      <th>6607</th>\n",
       "      <td>Upper middle income</td>\n",
       "      <td>2014</td>\n",
       "      <td>14275.343977</td>\n",
       "      <td>NaN</td>\n",
       "    </tr>\n",
       "    <tr>\n",
       "      <th>6727</th>\n",
       "      <td>Vietnam</td>\n",
       "      <td>2014</td>\n",
       "      <td>6098.489609</td>\n",
       "      <td>NaN</td>\n",
       "    </tr>\n",
       "    <tr>\n",
       "      <th>6757</th>\n",
       "      <td>West Bank and Gaza</td>\n",
       "      <td>2014</td>\n",
       "      <td>5967.073437</td>\n",
       "      <td>NaN</td>\n",
       "    </tr>\n",
       "    <tr>\n",
       "      <th>6783</th>\n",
       "      <td>World</td>\n",
       "      <td>2014</td>\n",
       "      <td>15189.648507</td>\n",
       "      <td>NaN</td>\n",
       "    </tr>\n",
       "  </tbody>\n",
       "</table>\n",
       "<p>238 rows × 4 columns</p>\n",
       "</div>"
      ],
      "text/plain": [
       "                  Country  Year  GDP_Per_Capita  Internet_Users_Pct\n",
       "2625              Iceland  2014    49652.149500               98.16\n",
       "561               Bermuda  2014    77361.104881               96.80\n",
       "4648               Norway  2014    62589.373548               96.30\n",
       "1452              Denmark  2014    52214.537753               95.99\n",
       "3691           Luxembourg  2014   108760.916030               94.67\n",
       "...                   ...   ...             ...                 ...\n",
       "6427               Tuvalu  2014     3450.793169                 NaN\n",
       "6607  Upper middle income  2014    14275.343977                 NaN\n",
       "6727              Vietnam  2014     6098.489609                 NaN\n",
       "6757   West Bank and Gaza  2014     5967.073437                 NaN\n",
       "6783                World  2014    15189.648507                 NaN\n",
       "\n",
       "[238 rows x 4 columns]"
      ]
     },
     "execution_count": 24,
     "metadata": {},
     "output_type": "execute_result"
    }
   ],
   "source": [
    "df_2014 = gdp_and_internet_use[gdp_and_internet_use.Year == 2014]\n",
    "df_2014.sort_values(\n",
    "     by=\"Internet_Users_Pct\",\n",
    "     ascending=False,\n",
    "    ) ##Iceland 98.16"
   ]
  },
  {
   "cell_type": "markdown",
   "id": "27b2a619",
   "metadata": {},
   "source": [
    "#### 19.\tWhich country had the lowest percentage of internet users in 2014? What was the percentage?"
   ]
  },
  {
   "cell_type": "code",
   "execution_count": 25,
   "id": "216df4a2",
   "metadata": {},
   "outputs": [
    {
     "data": {
      "text/html": [
       "<div>\n",
       "<style scoped>\n",
       "    .dataframe tbody tr th:only-of-type {\n",
       "        vertical-align: middle;\n",
       "    }\n",
       "\n",
       "    .dataframe tbody tr th {\n",
       "        vertical-align: top;\n",
       "    }\n",
       "\n",
       "    .dataframe thead th {\n",
       "        text-align: right;\n",
       "    }\n",
       "</style>\n",
       "<table border=\"1\" class=\"dataframe\">\n",
       "  <thead>\n",
       "    <tr style=\"text-align: right;\">\n",
       "      <th></th>\n",
       "      <th>Country</th>\n",
       "      <th>Year</th>\n",
       "      <th>GDP_Per_Capita</th>\n",
       "      <th>Internet_Users_Pct</th>\n",
       "    </tr>\n",
       "  </thead>\n",
       "  <tbody>\n",
       "    <tr>\n",
       "      <th>6219</th>\n",
       "      <td>Timor-Leste</td>\n",
       "      <td>2014</td>\n",
       "      <td>3264.568070</td>\n",
       "      <td>1.14</td>\n",
       "    </tr>\n",
       "    <tr>\n",
       "      <th>827</th>\n",
       "      <td>Burundi</td>\n",
       "      <td>2014</td>\n",
       "      <td>886.235777</td>\n",
       "      <td>1.38</td>\n",
       "    </tr>\n",
       "    <tr>\n",
       "      <th>2326</th>\n",
       "      <td>Guinea</td>\n",
       "      <td>2014</td>\n",
       "      <td>2061.760973</td>\n",
       "      <td>1.72</td>\n",
       "    </tr>\n",
       "    <tr>\n",
       "      <th>4528</th>\n",
       "      <td>Niger</td>\n",
       "      <td>2014</td>\n",
       "      <td>1127.615541</td>\n",
       "      <td>1.95</td>\n",
       "    </tr>\n",
       "    <tr>\n",
       "      <th>5434</th>\n",
       "      <td>Sierra Leone</td>\n",
       "      <td>2014</td>\n",
       "      <td>1997.511853</td>\n",
       "      <td>2.10</td>\n",
       "    </tr>\n",
       "    <tr>\n",
       "      <th>...</th>\n",
       "      <td>...</td>\n",
       "      <td>...</td>\n",
       "      <td>...</td>\n",
       "      <td>...</td>\n",
       "    </tr>\n",
       "    <tr>\n",
       "      <th>6427</th>\n",
       "      <td>Tuvalu</td>\n",
       "      <td>2014</td>\n",
       "      <td>3450.793169</td>\n",
       "      <td>NaN</td>\n",
       "    </tr>\n",
       "    <tr>\n",
       "      <th>6607</th>\n",
       "      <td>Upper middle income</td>\n",
       "      <td>2014</td>\n",
       "      <td>14275.343977</td>\n",
       "      <td>NaN</td>\n",
       "    </tr>\n",
       "    <tr>\n",
       "      <th>6727</th>\n",
       "      <td>Vietnam</td>\n",
       "      <td>2014</td>\n",
       "      <td>6098.489609</td>\n",
       "      <td>NaN</td>\n",
       "    </tr>\n",
       "    <tr>\n",
       "      <th>6757</th>\n",
       "      <td>West Bank and Gaza</td>\n",
       "      <td>2014</td>\n",
       "      <td>5967.073437</td>\n",
       "      <td>NaN</td>\n",
       "    </tr>\n",
       "    <tr>\n",
       "      <th>6783</th>\n",
       "      <td>World</td>\n",
       "      <td>2014</td>\n",
       "      <td>15189.648507</td>\n",
       "      <td>NaN</td>\n",
       "    </tr>\n",
       "  </tbody>\n",
       "</table>\n",
       "<p>238 rows × 4 columns</p>\n",
       "</div>"
      ],
      "text/plain": [
       "                  Country  Year  GDP_Per_Capita  Internet_Users_Pct\n",
       "6219          Timor-Leste  2014     3264.568070                1.14\n",
       "827               Burundi  2014      886.235777                1.38\n",
       "2326               Guinea  2014     2061.760973                1.72\n",
       "4528                Niger  2014     1127.615541                1.95\n",
       "5434         Sierra Leone  2014     1997.511853                2.10\n",
       "...                   ...   ...             ...                 ...\n",
       "6427               Tuvalu  2014     3450.793169                 NaN\n",
       "6607  Upper middle income  2014    14275.343977                 NaN\n",
       "6727              Vietnam  2014     6098.489609                 NaN\n",
       "6757   West Bank and Gaza  2014     5967.073437                 NaN\n",
       "6783                World  2014    15189.648507                 NaN\n",
       "\n",
       "[238 rows x 4 columns]"
      ]
     },
     "execution_count": 25,
     "metadata": {},
     "output_type": "execute_result"
    }
   ],
   "source": [
    "df_2014.sort_values(\n",
    "     by=\"Internet_Users_Pct\",\n",
    "     ascending=True,\n",
    "    ) ##Timor_Lestec 1.14"
   ]
  },
  {
   "cell_type": "markdown",
   "id": "129d1f9a",
   "metadata": {},
   "source": [
    "#### 20. Repeat for 2004 and 2009."
   ]
  },
  {
   "cell_type": "code",
   "execution_count": 26,
   "id": "2c07dc46",
   "metadata": {},
   "outputs": [
    {
     "name": "stdout",
     "output_type": "stream",
     "text": [
      "                  Country  Year  GDP_Per_Capita  Internet_Users_Pct\n",
      "4342              Myanmar  2004     1696.881760            0.024337\n",
      "3545              Liberia  2004     1181.546158            0.031011\n",
      "6079           Tajikistan  2004     1737.743630            0.077480\n",
      "15            Afghanistan  2004     1200.278256            0.105809\n",
      "1856             Ethiopia  2004      793.093786            0.155335\n",
      "...                   ...   ...             ...                 ...\n",
      "6437               Tuvalu  2004     3336.952920                 NaN\n",
      "6617  Upper middle income  2004     8567.061394                 NaN\n",
      "6737              Vietnam  2004     3689.732423                 NaN\n",
      "6767   West Bank and Gaza  2004     4485.525458                 NaN\n",
      "6793                World  2004    12077.823821                 NaN\n",
      "\n",
      "[234 rows x 4 columns]\n",
      "                  Country  Year  GDP_Per_Capita  Internet_Users_Pct\n",
      "6019               Sweden  2004    44496.023401               83.89\n",
      "2635              Iceland  2004    45145.545658               83.88\n",
      "1462              Denmark  2004    50607.628971               80.93\n",
      "4658               Norway  2004    60893.410993               77.69\n",
      "2066              Finland  2004    43760.279146               72.39\n",
      "...                   ...   ...             ...                 ...\n",
      "6437               Tuvalu  2004     3336.952920                 NaN\n",
      "6617  Upper middle income  2004     8567.061394                 NaN\n",
      "6737              Vietnam  2004     3689.732423                 NaN\n",
      "6767   West Bank and Gaza  2004     4485.525458                 NaN\n",
      "6793                World  2004    12077.823821                 NaN\n",
      "\n",
      "[234 rows x 4 columns]\n",
      "                  Country  Year  GDP_Per_Capita  Internet_Users_Pct\n",
      "6224          Timor-Leste  2009     2724.770973            0.185252\n",
      "4337              Myanmar  2009     2874.780227            0.220000\n",
      "5439         Sierra Leone  2009     1372.392285            0.260000\n",
      "922              Cambodia  2009     2603.583778            0.530000\n",
      "1851             Ethiopia  2009     1150.206179            0.540000\n",
      "...                   ...   ...             ...                 ...\n",
      "6194           The Gambia  2009     2283.183556                 NaN\n",
      "6612  Upper middle income  2009    11212.934078                 NaN\n",
      "6732              Vietnam  2009     4830.304958                 NaN\n",
      "6762   West Bank and Gaza  2009     5250.116075                 NaN\n",
      "6788                World  2009    13396.524163                 NaN\n",
      "\n",
      "[236 rows x 4 columns]\n",
      "                  Country  Year  GDP_Per_Capita  Internet_Users_Pct\n",
      "2630              Iceland  2009    48177.084123               93.00\n",
      "4653               Norway  2009    61886.564498               92.08\n",
      "6014               Sweden  2009    45638.035577               91.00\n",
      "4443          Netherlands  2009    51772.424928               89.63\n",
      "3696           Luxembourg  2009   104932.811953               87.31\n",
      "...                   ...   ...             ...                 ...\n",
      "6194           The Gambia  2009     2283.183556                 NaN\n",
      "6612  Upper middle income  2009    11212.934078                 NaN\n",
      "6732              Vietnam  2009     4830.304958                 NaN\n",
      "6762   West Bank and Gaza  2009     5250.116075                 NaN\n",
      "6788                World  2009    13396.524163                 NaN\n",
      "\n",
      "[236 rows x 4 columns]\n"
     ]
    }
   ],
   "source": [
    "min_int_2004 = df_2004.sort_values(\n",
    "     by=\"Internet_Users_Pct\",\n",
    "     ascending=True,\n",
    "    )\n",
    "max_int_2004 = df_2004.sort_values(\n",
    "     by=\"Internet_Users_Pct\",\n",
    "     ascending=False,\n",
    "    )\n",
    "min_int_2009 = df_2009.sort_values(\n",
    "     by=\"Internet_Users_Pct\",\n",
    "     ascending=True,\n",
    "    )\n",
    "max_int_2009 = df_2009.sort_values(\n",
    "     by=\"Internet_Users_Pct\",\n",
    "     ascending=False,\n",
    "    )\n",
    "\n",
    "print(min_int_2004) #Myanmar 0.024337\n",
    "print(max_int_2004) #Sweden 83.89\n",
    "print(min_int_2009) #Timor-Leste 0.185252\n",
    "print(max_int_2009) #Iceland 93.00"
   ]
  },
  {
   "cell_type": "markdown",
   "id": "1972fdc8",
   "metadata": {},
   "source": [
    "#### 21. Which country had the highest gdp per capita in 2014? What was the gdp per capita?"
   ]
  },
  {
   "cell_type": "code",
   "execution_count": 27,
   "id": "25734134",
   "metadata": {},
   "outputs": [
    {
     "name": "stdout",
     "output_type": "stream",
     "text": [
      "                       Country  Year  GDP_Per_Capita  Internet_Users_Pct\n",
      "3721          Macao SAR, China  2014   156514.133850                 NaN\n",
      "3691                Luxembourg  2014   108760.916030               94.67\n",
      "5138                     Qatar  2014    95578.416973               91.49\n",
      "5464                 Singapore  2014    87808.663157               82.00\n",
      "561                    Bermuda  2014    77361.104881               96.80\n",
      "...                        ...   ...             ...                 ...\n",
      "4528                     Niger  2014     1127.615541                1.95\n",
      "1422           Dem. Rep. Congo  2014     1029.790785                 NaN\n",
      "3781                    Malawi  2014     1027.208496                5.83\n",
      "827                    Burundi  2014      886.235777                1.38\n",
      "1047  Central African Republic  2014      822.610458                 NaN\n",
      "\n",
      "[238 rows x 4 columns]\n"
     ]
    }
   ],
   "source": [
    "max_gdp_2014 = df_2014.sort_values(\n",
    "     by=\"GDP_Per_Capita\",\n",
    "     ascending=False,\n",
    "    )\n",
    "\n",
    "print(max_gdp_2014) # Macao SAR, China 156514.133850"
   ]
  },
  {
   "cell_type": "markdown",
   "id": "276ed945",
   "metadata": {},
   "source": [
    "#### 22. Which country had the lowest gdp per capita in 2014? What was the gdp per capita?"
   ]
  },
  {
   "cell_type": "code",
   "execution_count": 28,
   "id": "e663d385",
   "metadata": {},
   "outputs": [
    {
     "name": "stdout",
     "output_type": "stream",
     "text": [
      "                       Country  Year  GDP_Per_Capita  Internet_Users_Pct\n",
      "1047  Central African Republic  2014      822.610458                 NaN\n",
      "827                    Burundi  2014      886.235777                1.38\n",
      "3781                    Malawi  2014     1027.208496                5.83\n",
      "1422           Dem. Rep. Congo  2014     1029.790785                 NaN\n",
      "4528                     Niger  2014     1127.615541                1.95\n",
      "...                        ...   ...             ...                 ...\n",
      "561                    Bermuda  2014    77361.104881               96.80\n",
      "5464                 Singapore  2014    87808.663157               82.00\n",
      "5138                     Qatar  2014    95578.416973               91.49\n",
      "3691                Luxembourg  2014   108760.916030               94.67\n",
      "3721          Macao SAR, China  2014   156514.133850                 NaN\n",
      "\n",
      "[238 rows x 4 columns]\n"
     ]
    }
   ],
   "source": [
    "min_gdp_2014 = df_2014.sort_values(\n",
    "     by=\"GDP_Per_Capita\",\n",
    "     ascending=True,\n",
    "    )\n",
    "\n",
    "print(min_gdp_2014) #Central African Republic 822.610458"
   ]
  },
  {
   "cell_type": "markdown",
   "id": "bfe1dace",
   "metadata": {},
   "source": [
    "#### 23. Create some scatterplots:  \n",
    "    a.  2004 Percent Using the Internet vs GDP Per Capita  \n",
    "    b.\t2009 Percent Using the Internet vs GDP Per Capita  \n",
    "    c.\t2014 Percent Using the Internet vs GDP Per Capita "
   ]
  },
  {
   "cell_type": "markdown",
   "id": "fa34c5a4",
   "metadata": {},
   "source": [
    "   ##### 2004 Scatter Plot"
   ]
  },
  {
   "cell_type": "code",
   "execution_count": 29,
   "id": "065cfa59",
   "metadata": {},
   "outputs": [
    {
     "data": {
      "image/png": "[encoded data removed]",
      "text/plain": [
       "<Figure size 432x288 with 1 Axes>"
      ]
     },
     "metadata": {
      "needs_background": "light"
     },
     "output_type": "display_data"
    }
   ],
   "source": [
    "plt.plot(df_2004.Internet_Users_Pct, df_2004.GDP_Per_Capita, 'o', color='black');"
   ]
  },
  {
   "cell_type": "markdown",
   "id": "9fcc281e",
   "metadata": {},
   "source": [
    "##### 2009 Scatter Plot"
   ]
  },
  {
   "cell_type": "code",
   "execution_count": 30,
   "id": "a28a9792",
   "metadata": {},
   "outputs": [
    {
     "data": {
      "image/png": "[encoded data removed]",
      "text/plain": [
       "<Figure size 432x288 with 1 Axes>"
      ]
     },
     "metadata": {
      "needs_background": "light"
     },
     "output_type": "display_data"
    }
   ],
   "source": [
    "plt.plot(df_2009.Internet_Users_Pct, df_2009.GDP_Per_Capita, 'o', color='black');"
   ]
  },
  {
   "cell_type": "markdown",
   "id": "1e40c91c",
   "metadata": {},
   "source": [
    "##### 2014 Scatter Plot"
   ]
  },
  {
   "cell_type": "code",
   "execution_count": 31,
   "id": "59c58c9f",
   "metadata": {},
   "outputs": [
    {
     "data": {
      "image/png": "[encoded data removed]",
      "text/plain": [
       "<Figure size 432x288 with 1 Axes>"
      ]
     },
     "metadata": {
      "needs_background": "light"
     },
     "output_type": "display_data"
    }
   ],
   "source": [
    "plt.plot(df_2014.Internet_Users_Pct, df_2014.GDP_Per_Capita, 'o', color='black');"
   ]
  },
  {
   "cell_type": "markdown",
   "id": "330bbb00",
   "metadata": {},
   "source": [
    "#### 24. Are there differences across years? What do the plots tell you about any relationship between these two variables? Enter your observations as a markdown cell.\n",
    "\n",
    "##### As the years have progressed there is a direct relation between the two.  The higher the gdp per capita the higher the internet user percentage is."
   ]
  },
  {
   "cell_type": "markdown",
   "id": "173b4aa3",
   "metadata": {},
   "source": [
    "#### 25. Look at the distribution of gdp per capita values for 2014. Is it unimodal?"
   ]
  },
  {
   "cell_type": "code",
   "execution_count": 32,
   "id": "d99d6158",
   "metadata": {},
   "outputs": [
    {
     "data": {
      "image/png": "[encoded data removed]",
      "text/plain": [
       "<Figure size 432x288 with 1 Axes>"
      ]
     },
     "metadata": {
      "needs_background": "light"
     },
     "output_type": "display_data"
    }
   ],
   "source": [
    "plt.hist(df_2014.GDP_Per_Capita); #Yes"
   ]
  },
  {
   "cell_type": "markdown",
   "id": "a65b330f",
   "metadata": {},
   "source": [
    "#### 26.\tLook at the distribution of Internet Use for 2014. Is it unimodal?"
   ]
  },
  {
   "cell_type": "code",
   "execution_count": 33,
   "id": "2f9aed4b",
   "metadata": {},
   "outputs": [
    {
     "data": {
      "image/png": "[encoded data removed]",
      "text/plain": [
       "<Figure size 432x288 with 1 Axes>"
      ]
     },
     "metadata": {
      "needs_background": "light"
     },
     "output_type": "display_data"
    }
   ],
   "source": [
    "plt.hist(df_2014.Internet_Users_Pct); #No"
   ]
  },
  {
   "cell_type": "markdown",
   "id": "6af818a9",
   "metadata": {},
   "source": [
    "#### 27. What are the top 5 countries in terms of internet use in 2014?"
   ]
  },
  {
   "cell_type": "code",
   "execution_count": 34,
   "id": "34decad4",
   "metadata": {},
   "outputs": [
    {
     "name": "stdout",
     "output_type": "stream",
     "text": [
      "         Country  Year  GDP_Per_Capita  Internet_Users_Pct\n",
      "2625     Iceland  2014    49652.149500               98.16\n",
      "561      Bermuda  2014    77361.104881               96.80\n",
      "4648      Norway  2014    62589.373548               96.30\n",
      "1452     Denmark  2014    52214.537753               95.99\n",
      "3691  Luxembourg  2014   108760.916030               94.67\n"
     ]
    }
   ],
   "source": [
    "top_5_2014 = df_2014.nlargest(5, \"Internet_Users_Pct\")\n",
    "print(top_5_2014)"
   ]
  },
  {
   "cell_type": "markdown",
   "id": "238d4564",
   "metadata": {},
   "source": [
    "28. ##### Create a DataFrame called top_5_internet **from the combined DataFrame that has all three years _for the 5 countries that had the greatest 2014 internet usage_**. You should have 15 rows. Check that this is true."
   ]
  },
  {
   "cell_type": "code",
   "execution_count": 35,
   "id": "ab38b556",
   "metadata": {},
   "outputs": [],
   "source": [
    "top_5_internet = pd.merge(subset_df, top_5_2014, how='inner', on=['Country'])\n",
    "top_5_internet = top_5_internet.drop(columns=['Year_y', 'GDP_Per_Capita_y','Internet_Users_Pct_y'])\n",
    "top_5_internet.rename(\n",
    "    columns={\"Year_x\" : \"Year\",\n",
    "                \"GDP_Per_Capita_x\" : \"GDP_Per_Capita\", \"Internet_Users_Pct_x\" : \"Internet_Users_Pct\"}\n",
    "          ,inplace=True)"
   ]
  },
  {
   "cell_type": "code",
   "execution_count": 36,
   "id": "cd1c5d1e",
   "metadata": {},
   "outputs": [
    {
     "name": "stdout",
     "output_type": "stream",
     "text": [
      "       Country  Year  GDP_Per_Capita  Internet_Users_Pct\n",
      "0      Bermuda  2004    90195.811033           60.990867\n",
      "1      Bermuda  2009    89961.982744           83.250000\n",
      "2      Bermuda  2014    77361.104881           96.800000\n",
      "3      Denmark  2004    50607.628971           80.930000\n",
      "4      Denmark  2009    50274.075696           86.840000\n",
      "5      Denmark  2014    52214.537753           95.990000\n",
      "6      Iceland  2004    45145.545658           83.880000\n",
      "7      Iceland  2009    48177.084123           93.000000\n",
      "8      Iceland  2014    49652.149500           98.160000\n",
      "9   Luxembourg  2004   102708.212547           65.880000\n",
      "10  Luxembourg  2009   104932.811953           87.310000\n",
      "11  Luxembourg  2014   108760.916030           94.670000\n",
      "12      Norway  2004    60893.410993           77.690000\n",
      "13      Norway  2009    61886.564498           92.080000\n",
      "14      Norway  2014    62589.373548           96.300000\n"
     ]
    }
   ],
   "source": [
    "#print(top_5_internet.shape) \n",
    "print(top_5_internet)"
   ]
  },
  {
   "cell_type": "markdown",
   "id": "f9b2bb22",
   "metadata": {},
   "source": [
    "#### 29. Create a seaborn FacetGrid to show the internet usage trend across the years 2004, 2009, and 2014 for these 5 countries (those with the highest reported internet use in 2014). Which country had the greatest growth between 2004 and 2014?"
   ]
  },
  {
   "cell_type": "code",
   "execution_count": 37,
   "id": "d0cd1fa4",
   "metadata": {},
   "outputs": [
    {
     "data": {
      "text/plain": [
       "<seaborn.axisgrid.FacetGrid at 0x2712d5e48b0>"
      ]
     },
     "execution_count": 37,
     "metadata": {},
     "output_type": "execute_result"
    },
    {
     "data": {
      "image/png": "[encoded data removed]",
      "text/plain": [
       "<Figure size 216x1080 with 5 Axes>"
      ]
     },
     "metadata": {
      "needs_background": "light"
     },
     "output_type": "display_data"
    }
   ],
   "source": [
    "s = sns.FacetGrid(top_5_internet, row=\"Country\")\n",
    "s.map(sns.scatterplot, \"Year\", \"Internet_Users_Pct\")\n",
    "\n",
    "#Bermuda"
   ]
  },
  {
   "cell_type": "markdown",
   "id": "4340e3cf",
   "metadata": {},
   "source": [
    "#### 30.Repeat the steps above to look at the trend for the 5 countries with the lowest 2014 internet usage. Which country has consistently had the least internet use?\n"
   ]
  },
  {
   "cell_type": "code",
   "execution_count": 38,
   "id": "0939e24e",
   "metadata": {},
   "outputs": [
    {
     "name": "stdout",
     "output_type": "stream",
     "text": [
      "          Country  Year  GDP_Per_Capita  Internet_Users_Pct\n",
      "6219  Timor-Leste  2014     3264.568070                1.14\n",
      "827       Burundi  2014      886.235777                1.38\n",
      "2326       Guinea  2014     2061.760973                1.72\n",
      "4528        Niger  2014     1127.615541                1.95\n",
      "4332      Myanmar  2014     4020.037369                2.10\n"
     ]
    }
   ],
   "source": [
    "# Timor-Leste maybe Burundi though\n",
    "\n",
    "bottom_5_2014 = df_2014.nsmallest(5, \"Internet_Users_Pct\")\n",
    "print(bottom_5_2014)"
   ]
  },
  {
   "cell_type": "code",
   "execution_count": 39,
   "id": "b4267359",
   "metadata": {},
   "outputs": [],
   "source": [
    "bottom_5_internet = pd.merge(subset_df, bottom_5_2014, how='inner', on=['Country'])\n",
    "bottom_5_internet = bottom_5_internet.drop(columns=['Year_y', 'GDP_Per_Capita_y','Internet_Users_Pct_y'])\n",
    "bottom_5_internet.rename(\n",
    "    columns={\"Year_x\" : \"Year\",\n",
    "                \"GDP_Per_Capita_x\" : \"GDP_Per_Capita\", \"Internet_Users_Pct_x\" : \"Internet_Users_Pct\"}\n",
    "          ,inplace=True)"
   ]
  },
  {
   "cell_type": "code",
   "execution_count": 40,
   "id": "ddb3b0c9",
   "metadata": {},
   "outputs": [
    {
     "name": "stdout",
     "output_type": "stream",
     "text": [
      "(15, 4)\n",
      "        Country  Year  GDP_Per_Capita  Internet_Users_Pct\n",
      "0       Burundi  2004      817.460585            0.349060\n",
      "1       Burundi  2009      831.564131            0.900000\n",
      "2       Burundi  2014      886.235777            1.380000\n",
      "3        Guinea  2004     1778.079082            0.508819\n",
      "4        Guinea  2009     1825.576637            0.940000\n",
      "5        Guinea  2014     2061.760973            1.720000\n",
      "6       Myanmar  2004     1696.881760            0.024337\n",
      "7       Myanmar  2009     2874.780227            0.220000\n",
      "8       Myanmar  2014     4020.037369            2.100000\n",
      "9         Niger  2004      929.883920            0.189934\n",
      "10        Niger  2009      992.409977            0.760000\n",
      "11        Niger  2014     1127.615541            1.950000\n",
      "12  Timor-Leste  2004     2258.608056                 NaN\n",
      "13  Timor-Leste  2009     2724.770973            0.185252\n",
      "14  Timor-Leste  2014     3264.568070            1.140000\n"
     ]
    }
   ],
   "source": [
    "print(bottom_5_internet.shape)\n",
    "print(bottom_5_internet)"
   ]
  },
  {
   "cell_type": "code",
   "execution_count": 41,
   "id": "f0ea7a8e",
   "metadata": {},
   "outputs": [
    {
     "data": {
      "text/plain": [
       "<seaborn.axisgrid.FacetGrid at 0x2712d7a3cd0>"
      ]
     },
     "execution_count": 41,
     "metadata": {},
     "output_type": "execute_result"
    },
    {
     "data": {
      "image/png": "[encoded data removed]",
      "text/plain": [
       "<Figure size 216x1080 with 5 Axes>"
      ]
     },
     "metadata": {
      "needs_background": "light"
     },
     "output_type": "display_data"
    }
   ],
   "source": [
    "s1 = sns.FacetGrid(bottom_5_internet, row=\"Country\")\n",
    "s1.map(sns.scatterplot, \"Year\", \"Internet_Users_Pct\")"
   ]
  },
  {
   "cell_type": "markdown",
   "id": "cff8705d",
   "metadata": {},
   "source": [
    "#### 31. Find the top 5 countries for 2014 in terms of GDP per capita; create a DataFrame to look at 10-year trends (use 2004, 2009, 2014 to look at the 10-year trend) in gdp per capita for the 5 countries with the highest 2014 GDP per capita. Use a seaborn facet grid for this."
   ]
  },
  {
   "cell_type": "code",
   "execution_count": 42,
   "id": "53a10143",
   "metadata": {},
   "outputs": [
    {
     "name": "stdout",
     "output_type": "stream",
     "text": [
      "               Country  Year  GDP_Per_Capita  Internet_Users_Pct\n",
      "3721  Macao SAR, China  2014   156514.133850                 NaN\n",
      "3691        Luxembourg  2014   108760.916030               94.67\n",
      "5138             Qatar  2014    95578.416973               91.49\n",
      "5464         Singapore  2014    87808.663157               82.00\n",
      "561            Bermuda  2014    77361.104881               96.80\n"
     ]
    }
   ],
   "source": [
    "top_5_GDP_2014 = df_2014.nlargest(5, \"GDP_Per_Capita\")\n",
    "print(top_5_GDP_2014)"
   ]
  },
  {
   "cell_type": "code",
   "execution_count": 43,
   "id": "fa8141ee",
   "metadata": {},
   "outputs": [],
   "source": [
    "top_5_gdp = pd.merge(subset_df, top_5_GDP_2014, how='inner', on=['Country'])\n",
    "top_5_gdp = top_5_gdp.drop(columns=['Year_y', 'GDP_Per_Capita_y','Internet_Users_Pct_y'])\n",
    "top_5_gdp.rename(\n",
    "    columns={\"Year_x\" : \"Year\",\n",
    "                \"GDP_Per_Capita_x\" : \"GDP_Per_Capita\", \"Internet_Users_Pct_x\" : \"Internet_Users_Pct\"}\n",
    "          ,inplace=True)"
   ]
  },
  {
   "cell_type": "code",
   "execution_count": 44,
   "id": "e227d776",
   "metadata": {},
   "outputs": [
    {
     "name": "stdout",
     "output_type": "stream",
     "text": [
      "(15, 4)\n",
      "             Country  Year  GDP_Per_Capita  Internet_Users_Pct\n",
      "0            Bermuda  2004    90195.811033           60.990867\n",
      "1            Bermuda  2009    89961.982744           83.250000\n",
      "2            Bermuda  2014    77361.104881           96.800000\n",
      "3         Luxembourg  2004   102708.212547           65.880000\n",
      "4         Luxembourg  2009   104932.811953           87.310000\n",
      "5         Luxembourg  2014   108760.916030           94.670000\n",
      "6   Macao SAR, China  2004    72944.409424                 NaN\n",
      "7   Macao SAR, China  2009    95939.340822                 NaN\n",
      "8   Macao SAR, China  2014   156514.133850                 NaN\n",
      "9              Qatar  2004    93748.301216           20.701648\n",
      "10             Qatar  2009    89954.519993           53.100000\n",
      "11             Qatar  2014    95578.416973           91.490000\n",
      "12         Singapore  2004    63901.716368           62.000000\n",
      "13         Singapore  2009    69466.581746           69.000000\n",
      "14         Singapore  2014    87808.663157           82.000000\n"
     ]
    }
   ],
   "source": [
    "print(top_5_gdp.shape)\n",
    "print(top_5_gdp)"
   ]
  },
  {
   "cell_type": "code",
   "execution_count": 45,
   "id": "77e1da7c",
   "metadata": {},
   "outputs": [
    {
     "data": {
      "text/plain": [
       "<seaborn.axisgrid.FacetGrid at 0x2712d990f40>"
      ]
     },
     "execution_count": 45,
     "metadata": {},
     "output_type": "execute_result"
    },
    {
     "data": {
      "image/png": "[encoded data removed]",
      "text/plain": [
       "<Figure size 216x1080 with 5 Axes>"
      ]
     },
     "metadata": {
      "needs_background": "light"
     },
     "output_type": "display_data"
    }
   ],
   "source": [
    "g = sns.FacetGrid(top_5_gdp, row=\"Country\")\n",
    "g.map(sns.scatterplot, \"Year\", \"GDP_Per_Capita\")"
   ]
  },
  {
   "cell_type": "markdown",
   "id": "a70621aa",
   "metadata": {},
   "source": [
    "#### 32. Repeat this one more time to look at 10-year trend for the 5 countries for 2014 with the lowest GDP per capita."
   ]
  },
  {
   "cell_type": "code",
   "execution_count": 46,
   "id": "4aba2094",
   "metadata": {},
   "outputs": [
    {
     "name": "stdout",
     "output_type": "stream",
     "text": [
      "                       Country  Year  GDP_Per_Capita  Internet_Users_Pct\n",
      "1047  Central African Republic  2014      822.610458                 NaN\n",
      "827                    Burundi  2014      886.235777                1.38\n",
      "3781                    Malawi  2014     1027.208496                5.83\n",
      "1422           Dem. Rep. Congo  2014     1029.790785                 NaN\n",
      "4528                     Niger  2014     1127.615541                1.95\n"
     ]
    }
   ],
   "source": [
    "bottom_5_GDP_2014 = df_2014.nsmallest(5, \"GDP_Per_Capita\")\n",
    "print(bottom_5_GDP_2014)"
   ]
  },
  {
   "cell_type": "code",
   "execution_count": 47,
   "id": "9f6af1c0",
   "metadata": {},
   "outputs": [],
   "source": [
    "bot_5_gdp = pd.merge(subset_df, bottom_5_GDP_2014, how='inner', on=['Country'])\n",
    "bot_5_gdp = bot_5_gdp.drop(columns=['Year_y', 'GDP_Per_Capita_y','Internet_Users_Pct_y'])\n",
    "bot_5_gdp.rename(\n",
    "    columns={\"Year_x\" : \"Year\",\n",
    "                \"GDP_Per_Capita_x\" : \"GDP_Per_Capita\", \"Internet_Users_Pct_x\" : \"Internet_Users_Pct\"}\n",
    "          ,inplace=True)"
   ]
  },
  {
   "cell_type": "code",
   "execution_count": 48,
   "id": "b36f08d8",
   "metadata": {},
   "outputs": [
    {
     "name": "stdout",
     "output_type": "stream",
     "text": [
      "(15, 4)\n",
      "                     Country  Year  GDP_Per_Capita  Internet_Users_Pct\n",
      "0                    Burundi  2004      817.460585            0.349060\n",
      "1                    Burundi  2009      831.564131            0.900000\n",
      "2                    Burundi  2014      886.235777            1.380000\n",
      "3   Central African Republic  2004     1037.846766                 NaN\n",
      "4   Central African Republic  2009     1161.189475                 NaN\n",
      "5   Central African Republic  2014      822.610458                 NaN\n",
      "6            Dem. Rep. Congo  2004      757.685942                 NaN\n",
      "7            Dem. Rep. Congo  2009      835.611696                 NaN\n",
      "8            Dem. Rep. Congo  2014     1029.790785                 NaN\n",
      "9                     Malawi  2004      775.346132            0.347505\n",
      "10                    Malawi  2009      932.867635            1.070000\n",
      "11                    Malawi  2014     1027.208496            5.830000\n",
      "12                     Niger  2004      929.883920            0.189934\n",
      "13                     Niger  2009      992.409977            0.760000\n",
      "14                     Niger  2014     1127.615541            1.950000\n"
     ]
    }
   ],
   "source": [
    "print(bot_5_gdp.shape)\n",
    "print(bot_5_gdp)"
   ]
  },
  {
   "cell_type": "code",
   "execution_count": 49,
   "id": "349cfb89",
   "metadata": {},
   "outputs": [
    {
     "data": {
      "text/plain": [
       "<seaborn.axisgrid.FacetGrid at 0x2712d30ad90>"
      ]
     },
     "execution_count": 49,
     "metadata": {},
     "output_type": "execute_result"
    },
    {
     "data": {
      "image/png": "[encoded data removed]",
      "text/plain": [
       "<Figure size 216x1080 with 5 Axes>"
      ]
     },
     "metadata": {
      "needs_background": "light"
     },
     "output_type": "display_data"
    }
   ],
   "source": [
    "g = sns.FacetGrid(bot_5_gdp, row=\"Country\")\n",
    "g.map(sns.scatterplot, \"Year\", \"GDP_Per_Capita\")"
   ]
  },
  {
   "cell_type": "markdown",
   "id": "b0b248b3",
   "metadata": {},
   "source": [
    "#### A conflict erupted in Central African Republic between the years 2009 and 2014 in our dataset directly affecting the GDP_Per_Capita."
   ]
  },
  {
   "cell_type": "code",
   "execution_count": null,
   "id": "cfbf963d",
   "metadata": {},
   "outputs": [],
   "source": []
  }
 ],
 "metadata": {
  "kernelspec": {
   "display_name": "Python 3 (ipykernel)",
   "language": "python",
   "name": "python3"
  },
  "language_info": {
   "codemirror_mode": {
    "name": "ipython",
    "version": 3
   },
   "file_extension": ".py",
   "mimetype": "text/x-python",
   "name": "python",
   "nbconvert_exporter": "python",
   "pygments_lexer": "ipython3",
   "version": "3.9.7"
  }
 },
 "nbformat": 4,
 "nbformat_minor": 5
}
